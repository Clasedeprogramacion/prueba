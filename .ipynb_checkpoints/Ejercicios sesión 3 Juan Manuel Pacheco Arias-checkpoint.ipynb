{
 "cells": [
  {
   "cell_type": "code",
   "execution_count": 33,
   "metadata": {},
   "outputs": [
    {
     "name": "stdout",
     "output_type": "stream",
     "text": [
      "Minutos deseados: 5677646984\n",
      "Han pasado 10802 años, con 80 días desde entonces.\n"
     ]
    }
   ],
   "source": [
    "#Código para determinar años transcurridos y días transcurridos dado un # de minutos.\n",
    "a = input (\"Minutos deseados: \") #generador de cuadro de instrucciones para la inserción del # de minutos deseados.\n",
    "DiasTranscurridos = a//(24*60) #Días transcurridos para el número de minutos digitados.\n",
    "AnosTranscurridos = DiasTranscurridos//365 #Años transcurridos para el número de minutos digitados.\n",
    "DiasTotales = DiasTranscurridos-(AnosTranscurridos*365) #Días transcurridos antes de completar el ciclo de un año nuevo.\n",
    "print \"Han pasado \" + str(AnosTranscurridos) + \" años, con \" + str(DiasTotales) + \" días desde entonces.\""
   ]
  },
  {
   "cell_type": "code",
   "execution_count": null,
   "metadata": {},
   "outputs": [],
   "source": [
    "#Código para determinar los tres ángulos de internos de un triángulo en radianes, dadas las tres coordenadas de sus vértices.\n",
    "x1 = input (\"Coordenada X del primer ángulo: \") #Definición de las variables cooredenadas de los vértices.\n",
    "y1 = input (\"Coordenada Y del primer ángulo: \")\n",
    "x2 = input (\"Coordenada X del segundo ángulo: \")\n",
    "y2 = input (\"Coordenada Y del segundo ángulo: \")\n",
    "x3 = input (\"Coordenada X del tercer ángulo: \")\n",
    "y3 = input (\"Coordenada Y del tercer ángulo: \")\n",
    "import math\n",
    "Lado_a = math.sqrt(math.pow(x2-x1, 2) + math.pow(y2-y1, 2)) #Calculo de la longitud de cada uno de los lados del triángulo.\n",
    "Lado_b = math.sqrt(math.pow(x3-x1, 2) + math.pow(y3-y1, 2))\n",
    "Lado_c = math.sqrt(math.pow(x3-x2, 2) + math.pow(y3-y2, 2))\n",
    "AnguloA = math.acos((-math.pow(Lado_a, 2) + math.pow(Lado_b, 2) + math.pow(Lado_c, 2))/(2*Lado_b*Lado_c))\\\n",
    "#Aplicación del teorema del coseno para determinar cada uno de los ángulos requeridos en radianes.\n",
    "AnguloB = math.acos((math.pow(Lado_a, 2) - math.pow(Lado_b, 2) + math.pow(Lado_c, 2))/(2*Lado_a*Lado_c))\n",
    "AnguloC = math.acos((math.pow(Lado_a, 2) + math.pow(Lado_b, 2) - math.pow(Lado_c, 2))/(2*Lado_b*Lado_a))\n",
    "print \"El ángulo A tiene un valor de: \" + str(AnguloA) + \", el B un valor de: \" + str(AnguloB) + \"y el C un valor de:\"\\\n",
    "+ str(AnguloC) + \".\""
   ]
  },
  {
   "cell_type": "code",
   "execution_count": null,
   "metadata": {
    "collapsed": true
   },
   "outputs": [],
   "source": []
  }
 ],
 "metadata": {
  "kernelspec": {
   "display_name": "Python 2",
   "language": "python",
   "name": "python2"
  },
  "language_info": {
   "codemirror_mode": {
    "name": "ipython",
    "version": 2
   },
   "file_extension": ".py",
   "mimetype": "text/x-python",
   "name": "python",
   "nbconvert_exporter": "python",
   "pygments_lexer": "ipython2",
   "version": "2.7.13"
  }
 },
 "nbformat": 4,
 "nbformat_minor": 2
}
