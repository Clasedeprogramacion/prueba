{
 "cells": [
  {
   "cell_type": "code",
   "execution_count": null,
   "metadata": {},
   "outputs": [],
   "source": [
    "from Tkinter import *\n",
    "import subprocess  # permite usar la terminal del sistema operativo desde python\n",
    "\n",
    "\n",
    "class Widgets:\n",
    "    def __init__(self):\n",
    "        window = Tk()\n",
    "        window.title(\"Suba aquí su repositorio :D\")\n",
    "        window.resizable(0,0)\n",
    "\n",
    "        frame1 = Frame(window)\n",
    "        frame1.pack()\n",
    "        M1 = Message(frame1, text=\"Por favor ingrese los siguientes datos\",\n",
    "                     width=200)\n",
    "        M1.grid(row=1, column=2)\n",
    "\n",
    "        self.email = StringVar()\n",
    "        labelemail = Label(frame1, text=\"Email: \").grid(row=2, column=1)\n",
    "        entryemail = Entry(frame1, textvariable=self.email).grid(row=2,\n",
    "                         column=2)\n",
    "\n",
    "        self.name = StringVar()\n",
    "        labelname = Label(frame1, text=\"Nombre: \").grid(row=3, column=1)\n",
    "        entryname = Entry(frame1, textvariable=self.name).grid(row=3,\n",
    "                         column=2)\n",
    "\n",
    "        self.commit = StringVar()\n",
    "        labelcommit = Label(frame1, text=\"Comentario: \").grid(row=5, column=1)\n",
    "        entrycommit = Entry(frame1, textvariable=self.commit).grid(row=5,\n",
    "                         column=2)\n",
    "\n",
    "        Btprepare = Button(frame1, text=\"Preparar\",\n",
    "                           command=self.prepareButton).grid(row=7, column=2)\n",
    "\n",
    "        Btbegin = Button(frame1, text=\"Subir\",\n",
    "                         command=self.BeginButton).grid(row=8, column=2)\n",
    "\n",
    "        Btclear = Button(frame1, text=\"Limpiar\",\n",
    "                         comman=self.clearData).grid(row=6, column=2)\n",
    "\n",
    "        window.mainloop()\n",
    "\n",
    "    def prepareButton(self):\n",
    "        print subprocess.check_output('git init', shell=True)\n",
    "        print subprocess.check_output('git remote add origin https://github.com/Clasedeprogramacion/prueba.git', shell=True)\n",
    "        name = \"git config --global user.name \" + self.name.get()\n",
    "        email = \"git config --global user.email \" + self.email.get()\n",
    "        print subprocess.check_output(name, shell=True)  # configura para el uso de git\n",
    "        print subprocess.check_output(email, shell=True)  # configura para el uso de git\n",
    "\n",
    "    def BeginButton(self):\n",
    "        commit = \"git commit -m \" + self.commit.get()\n",
    "        print subprocess.check_output('git add .', shell=True)  # agrega los archivos\n",
    "        print subprocess.check_output(commit, shell=True)  # agrega comentario\n",
    "        print subprocess.check_output('git push -f origin master', shell=True)  # sube los archivos a github\n",
    "\n",
    "    def clearData(self):\n",
    "        print subprocess.check_output('git remote rm origin', shell=True)\n",
    "\n",
    "\n",
    "Widgets()\n"
   ]
  },
  {
   "cell_type": "code",
   "execution_count": null,
   "metadata": {
    "collapsed": true
   },
   "outputs": [],
   "source": []
  }
 ],
 "metadata": {
  "kernelspec": {
   "display_name": "Python 2",
   "language": "python",
   "name": "python2"
  },
  "language_info": {
   "codemirror_mode": {
    "name": "ipython",
    "version": 2
   },
   "file_extension": ".py",
   "mimetype": "text/x-python",
   "name": "python",
   "nbconvert_exporter": "python",
   "pygments_lexer": "ipython2",
   "version": "2.7.13"
  }
 },
 "nbformat": 4,
 "nbformat_minor": 2
}
